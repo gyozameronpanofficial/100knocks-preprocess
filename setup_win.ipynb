{
 "cells": [
  {
   "cell_type": "markdown",
   "id": "65ad6680",
   "metadata": {},
   "source": [
    "## 0. 現在の状況を確認"
   ]
  },
  {
   "cell_type": "code",
   "execution_count": 5,
   "id": "64f8f1c2",
   "metadata": {},
   "outputs": [
    {
     "name": "stdout",
     "output_type": "stream",
     "text": [
      "/Users/osawa\n",
      "Python 3.11.5\n"
     ]
    }
   ],
   "source": [
    "# 現在のディレクトリ確認\n",
    "%cd\n",
    "# C:\\Users\\osawa\\projects\\100knocks-preprocess に移動していると仮定\n",
    "\n",
    "# 現在のPythonバージョン確認\n",
    "!python3 --version"
   ]
  },
  {
   "cell_type": "markdown",
   "id": "9774b229",
   "metadata": {},
   "source": [
    "## 1. プロキシの設定"
   ]
  },
  {
   "cell_type": "code",
   "execution_count": null,
   "id": "113d3a01",
   "metadata": {},
   "outputs": [
    {
     "name": "stdout",
     "output_type": "stream",
     "text": [
      "%HTTP_PROXY%\n",
      "%HTTPS_PROXY%\n"
     ]
    }
   ],
   "source": [
    "# # Windows cmd コマンドの実行\n",
    "# !set HTTP_PROXY=http://proxy.company.com:8080\n",
    "# !set HTTPS_PROXY=http://proxy.company.com:8080\n",
    "# !set NO_PROXY=localhost,127.0.0.1,.company.com\n",
    "\n",
    "# # 設定確認\n",
    "# !echo %HTTP_PROXY%\n",
    "# !echo %HTTPS_PROXY%\n",
    "\n",
    "# 1. Windowsキー + R → sysdm.cpl → Enter\n",
    "# 2. 「詳細設定」タブ → 「環境変数」\n",
    "# 3. 「システム環境変数」で「新規」をクリック\n",
    "\n",
    "# 変数名: HTTP_PROXY\n",
    "# 変数値: http://proxy.company.com:8080\n",
    "\n",
    "# 変数名: HTTPS_PROXY\n",
    "# 変数値: http://proxy.company.com:8080\n",
    "\n",
    "# 変数名: NO_PROXY\n",
    "# 変数値: localhost,127.0.0.1,.company.com\n",
    "\n",
    "# システム全体の環境変数設定\n",
    "# setx HTTP_PROXY \"http://proxy.company.com:8080\" /M\n",
    "# setx HTTPS_PROXY \"http://proxy.company.com:8080\" /M\n",
    "# setx NO_PROXY \"localhost,127.0.0.1,.company.com\" /M\n",
    "\n",
    "# # ユーザー環境変数設定（/M オプションなし）\n",
    "# setx HTTP_PROXY \"http://proxy.company.com:8080\"\n",
    "# setx HTTPS_PROXY \"http://proxy.company.com:8080\"\n",
    "# setx NO_PROXY \"localhost,127.0.0.1,.company.com\""
   ]
  },
  {
   "cell_type": "markdown",
   "id": "dbcbcdff",
   "metadata": {},
   "source": [
    "## 2. pyenv-winのインストール"
   ]
  },
  {
   "cell_type": "markdown",
   "id": "f91aac76",
   "metadata": {},
   "source": [
    "### インストール"
   ]
  },
  {
   "cell_type": "code",
   "execution_count": null,
   "id": "33c6fe09",
   "metadata": {},
   "outputs": [],
   "source": [
    "# PowerShellを管理者権限で実行\n",
    "# pyenv-winをインストール\n",
    "# git clone https://github.com/pyenv-win/pyenv-win.git %USERPROFILE%\\.pyenv\n",
    "\n",
    "# または、Gitがない場合はZIPダウンロード後に展開\n",
    "# https://github.com/pyenv-win/pyenv-win/archive/master.zip\n",
    "\n",
    "# https://qiita.com/ShotaDeguchi/items/d2e08c135f2eebaa624b\n",
    "# pip install pyenv-win --target %USERPROFILE%\\\\.pyenv"
   ]
  },
  {
   "cell_type": "code",
   "execution_count": null,
   "id": "3fa4f947",
   "metadata": {},
   "outputs": [],
   "source": [
    "# cmd\n",
    "\n",
    "# # システム環境変数に追加（コントロールパネル → システム → 詳細設定 → 環境変数）\n",
    "# # または、コマンドラインで設定\n",
    "\n",
    "# setx PYENV \"%USERPROFILE%\\.pyenv\\pyenv-win\"\n",
    "# setx PYENV_ROOT \"%USERPROFILE%\\.pyenv\"\n",
    "# setx PYENV_HOME \"%USERPROFILE%\\.pyenv\\pyenv-win\"\n",
    "\n",
    "# # PATHに追加\n",
    "# setx PATH \"%PYENV%;%PYENV_HOME%\\bin;%PYENV_HOME%\\shims;%PATH%\""
   ]
  },
  {
   "cell_type": "code",
   "execution_count": 7,
   "id": "40b7b3d8",
   "metadata": {},
   "outputs": [],
   "source": [
    "# PowerShell\n",
    "\n",
    "# [System.Environment]::SetEnvironmentVariable('PYENV', \"$env:USERPROFILE\\.pyenv\\pyenv-win\", 'User')\n",
    "# [System.Environment]::SetEnvironmentVariable('PYENV_ROOT', \"$env:USERPROFILE\\.pyenv\", 'User')\n",
    "# [System.Environment]::SetEnvironmentVariable('PYENV_HOME', \"$env:USERPROFILE\\.pyenv\\pyenv-win\", 'User')\n",
    "\n",
    "# # PATH追加\n",
    "# $env:PATH = \"$env:PYENV;$env:PYENV_HOME\\bin;$env:PYENV_HOME\\shims;$env:PATH\""
   ]
  },
  {
   "cell_type": "markdown",
   "id": "dae14747",
   "metadata": {},
   "source": [
    "### インストールの確認\n"
   ]
  },
  {
   "cell_type": "code",
   "execution_count": null,
   "id": "82f1e45e",
   "metadata": {},
   "outputs": [],
   "source": [
    "# cmd\n",
    "\n",
    "# 新しいコマンドプロンプトを開いて確認\n",
    "pyenv --version\n",
    "\n",
    "# インストール可能なPythonバージョン確認\n",
    "pyenv install --list"
   ]
  },
  {
   "cell_type": "markdown",
   "id": "332776dc",
   "metadata": {},
   "source": [
    "## 3. Pythonバージョンのインストール"
   ]
  },
  {
   "cell_type": "code",
   "execution_count": null,
   "id": "a058cd65",
   "metadata": {},
   "outputs": [],
   "source": [
    "# cmd\n",
    "\n",
    "# データ分析に適した安定版をインストール\n",
    "pyenv install 3.11.5\n",
    "\n",
    "# インストール済みバージョン確認\n",
    "pyenv versions"
   ]
  },
  {
   "cell_type": "markdown",
   "id": "b968c0dc",
   "metadata": {},
   "source": [
    "## 4.プロジェクトディレクトリでの設定"
   ]
  },
  {
   "cell_type": "code",
   "execution_count": null,
   "id": "0bc56e2f",
   "metadata": {},
   "outputs": [],
   "source": [
    "# cmd\n",
    "\n",
    "# プロジェクトディレクトリに移動\n",
    "cd C:\\Users\\osawa\\projects\\100knocks-preprocess\n",
    "\n",
    "# プロジェクト用Pythonバージョン設定\n",
    "pyenv local 3.11.5\n",
    "\n",
    "# 設定確認\n",
    "python --version\n",
    "# Python 3.11.5 と表示されることを確認\n",
    "\n",
    "# .python-versionファイルの確認\n",
    "type .python-version\n",
    "# 3.11.5 と記載されている"
   ]
  },
  {
   "cell_type": "markdown",
   "id": "816ddab7",
   "metadata": {},
   "source": [
    "## 5.仮想環境の作成"
   ]
  },
  {
   "cell_type": "code",
   "execution_count": null,
   "id": "3359230d",
   "metadata": {},
   "outputs": [],
   "source": [
    "# cmd\n",
    "\n",
    "# 仮想環境作成\n",
    "python -m venv venv\n",
    "\n",
    "# 作成確認\n",
    "dir\n",
    "# venv フォルダが作成されていることを確認"
   ]
  },
  {
   "cell_type": "markdown",
   "id": "844f1f32",
   "metadata": {},
   "source": [
    "## 6.仮想環境の有効化"
   ]
  },
  {
   "cell_type": "code",
   "execution_count": null,
   "id": "896f9aa3",
   "metadata": {},
   "outputs": [],
   "source": [
    "# cmd\n",
    "\n",
    "# 仮想環境を有効化\n",
    "# venv\\Scripts\\activate\n",
    "\n",
    "# 有効化の確認\n",
    "# プロンプトに (venv) が表示される\n",
    "# 例: (venv) C:\\Users\\osawa\\projects\\100knocks-preprocess>\n",
    "\n",
    "# 使用中のPythonパス確認\n",
    "# where python\n",
    "# C:\\Users\\osawa\\projects\\100knocks-preprocess\\venv\\Scripts\\python.exe\n",
    "\n",
    "# Pythonバージョン再確認\n",
    "# python --version\n",
    "# Python 3.11.5"
   ]
  },
  {
   "cell_type": "markdown",
   "id": "b65ce838",
   "metadata": {},
   "source": [
    "## 7.pipのアップグレード"
   ]
  },
  {
   "cell_type": "code",
   "execution_count": null,
   "id": "423fd121",
   "metadata": {},
   "outputs": [],
   "source": [
    "## cmd\n",
    "\n",
    "# pipを最新版にアップグレード\n",
    "python -m pip install --upgrade pip\n",
    "\n",
    "# pipバージョン確認\n",
    "pip --version"
   ]
  },
  {
   "cell_type": "markdown",
   "id": "71ef053d",
   "metadata": {},
   "source": [
    "## 8.データ分析用パッケージのインストール"
   ]
  },
  {
   "cell_type": "code",
   "execution_count": null,
   "id": "b3b005bf",
   "metadata": {},
   "outputs": [],
   "source": [
    "# cmd\n",
    "\n",
    "%pip install -r requirements.txt\n",
    "\n",
    "# pip freeze > requirements.txt"
   ]
  }
 ],
 "metadata": {
  "kernelspec": {
   "display_name": "Python 3",
   "language": "python",
   "name": "python3"
  },
  "language_info": {
   "codemirror_mode": {
    "name": "ipython",
    "version": 3
   },
   "file_extension": ".py",
   "mimetype": "text/x-python",
   "name": "python",
   "nbconvert_exporter": "python",
   "pygments_lexer": "ipython3",
   "version": "3.11.5"
  }
 },
 "nbformat": 4,
 "nbformat_minor": 5
}
